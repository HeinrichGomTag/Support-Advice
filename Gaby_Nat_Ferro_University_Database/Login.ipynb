{
 "cells": [
  {
   "cell_type": "code",
   "execution_count": 9,
   "id": "7751badd",
   "metadata": {},
   "outputs": [
    {
     "name": "stdout",
     "output_type": "stream",
     "text": [
      "Your password: 123\n",
      "Try Again\n"
     ]
    }
   ],
   "source": [
    "def validate(passw, inp):\n",
    "    if(passw == inp):\n",
    "        print(\"Correct password\")\n",
    "    else:\n",
    "        print(\"Try Again\")\n",
    "\n",
    "passw = 1234\n",
    "inp = int(input(\"Your password: \"))\n",
    "validate(passw,inp)\n"
   ]
  }
 ],
 "metadata": {
  "kernelspec": {
   "display_name": "Python 3 (ipykernel)",
   "language": "python",
   "name": "python3"
  },
  "language_info": {
   "codemirror_mode": {
    "name": "ipython",
    "version": 3
   },
   "file_extension": ".py",
   "mimetype": "text/x-python",
   "name": "python",
   "nbconvert_exporter": "python",
   "pygments_lexer": "ipython3",
   "version": "3.9.13"
  }
 },
 "nbformat": 4,
 "nbformat_minor": 5
}
